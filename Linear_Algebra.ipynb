{
 "cells": [
  {
   "cell_type": "markdown",
   "metadata": {
    "colab_type": "text",
    "id": "view-in-github"
   },
   "source": [
    "<a href=\"https://colab.research.google.com/github/SocialHealthAI/Education/blob/main/Linear_Algebra.ipynb\" target=\"_parent\"><img src=\"https://colab.research.google.com/assets/colab-badge.svg\" alt=\"Open In Colab\"/></a>"
   ]
  },
  {
   "cell_type": "markdown",
   "metadata": {
    "id": "sUYhV0XoJK1p"
   },
   "source": [
    "Libraries for linear algebra demo\n",
    "\n",
    "%matplotlib inline\n",
    " is a magic function that renders the figure in a notebook (instead of displaying a dump of the figure object).\n",
    "\n",
    " from scipy import * loads scipy into namespace so scipy. is not needed as prefix\n"
   ]
  },
  {
   "cell_type": "code",
   "execution_count": null,
   "metadata": {
    "id": "kpGjYbG0Fjav"
   },
   "outputs": [],
   "source": [
    "%matplotlib inline\n",
    "import sympy as sympy\n",
    "import numpy as np              # linear algebra              \n",
    "import matplotlib.pyplot as plt\n",
    "import seaborn as sbn\n",
    "from scipy import *"
   ]
  },
  {
   "cell_type": "markdown",
   "metadata": {
    "id": "AUsMRRYVqLX8"
   },
   "source": [
    "Create vector using numpy array"
   ]
  },
  {
   "cell_type": "code",
   "execution_count": null,
   "metadata": {
    "colab": {
     "base_uri": "https://localhost:8080/"
    },
    "id": "wx2Z9TBrJd7n",
    "outputId": "0457ce38-58eb-4a39-c8ed-e6e238654a87"
   },
   "outputs": [
    {
     "data": {
      "text/plain": [
       "numpy.ndarray"
      ]
     },
     "execution_count": 3,
     "metadata": {},
     "output_type": "execute_result"
    }
   ],
   "source": [
    "x_vector = np.array([1,2,3])\n",
    "type(x_vector)\n"
   ]
  },
  {
   "cell_type": "markdown",
   "metadata": {
    "id": "NLM4YwiC0IrW"
   },
   "source": [
    "matrix is an array of lists or array of vectors"
   ]
  },
  {
   "cell_type": "code",
   "execution_count": null,
   "metadata": {
    "colab": {
     "base_uri": "https://localhost:8080/"
    },
    "id": "hCyl8wqwp_9C",
    "outputId": "c8136ba1-1c13-4e3b-c8f2-fed27ad16651"
   },
   "outputs": [
    {
     "name": "stdout",
     "output_type": "stream",
     "text": [
      "[(1, 2), (3, 4)]\n",
      "[[1, 2], [3, 4]]\n",
      "[[1 2]\n",
      " [3 4]]\n",
      "[[1 2]\n",
      " [3 4]]\n"
     ]
    }
   ],
   "source": [
    "b = list([(1, 2), (3,4)])\n",
    "print (b)\n",
    "c = list([[1, 2], [3,4]])\n",
    "print (c)\n",
    "a1 = np.array(b)\n",
    "print(a1)\n",
    "a2 = np.array(c)\n",
    "print(a2)"
   ]
  },
  {
   "cell_type": "code",
   "execution_count": null,
   "metadata": {
    "colab": {
     "base_uri": "https://localhost:8080/"
    },
    "id": "v8lvysynsyCC",
    "outputId": "efa252ce-ba12-4b83-b4b5-e2489f13db03"
   },
   "outputs": [
    {
     "name": "stdout",
     "output_type": "stream",
     "text": [
      "[[1 2 3]\n",
      " [4 5 6]]\n"
     ]
    }
   ],
   "source": [
    "row1_vector = np.array([1,2,3])\n",
    "row2_vector = np.array([4,5,6])\n",
    "a3 = np.array([row1_vector, row2_vector])\n",
    "print(a3)\n"
   ]
  },
  {
   "cell_type": "markdown",
   "metadata": {
    "id": "agSQHgNW00af"
   },
   "source": [
    "Matrix addition"
   ]
  },
  {
   "cell_type": "code",
   "execution_count": null,
   "metadata": {
    "colab": {
     "base_uri": "https://localhost:8080/"
    },
    "id": "_F4Tuf_Kz2xh",
    "outputId": "9fbb17ce-94a8-4c3f-ff88-311958264afc"
   },
   "outputs": [
    {
     "name": "stdout",
     "output_type": "stream",
     "text": [
      "[[ 2  4  6]\n",
      " [ 8 10 12]]\n"
     ]
    }
   ],
   "source": [
    "print (a3 + a3)"
   ]
  },
  {
   "cell_type": "markdown",
   "metadata": {
    "id": "WeLCFhB7NAUG"
   },
   "source": [
    "Multiplication - matrix dot matrix"
   ]
  },
  {
   "cell_type": "code",
   "execution_count": null,
   "metadata": {
    "colab": {
     "base_uri": "https://localhost:8080/"
    },
    "id": "XETTm5CW0wEr",
    "outputId": "25b2acec-8dd0-4fcb-e179-53a7fcf7468a"
   },
   "outputs": [
    {
     "name": "stdout",
     "output_type": "stream",
     "text": [
      "[[1 2 3]\n",
      " [4 5 6]]\n",
      "[[1 2]\n",
      " [1 2]\n",
      " [1 2]]\n"
     ]
    }
   ],
   "source": [
    "a3By2 = a3\n",
    "a2By3 = np.array([[1,2], [1,2], [1, 2]])\n",
    "print(a3By2)\n",
    "print(a2By3)"
   ]
  },
  {
   "cell_type": "code",
   "execution_count": null,
   "metadata": {
    "colab": {
     "base_uri": "https://localhost:8080/"
    },
    "id": "FJ928tHn1u_n",
    "outputId": "5c6c0bc8-eaf3-420f-a276-67f88f4eeded"
   },
   "outputs": [
    {
     "name": "stdout",
     "output_type": "stream",
     "text": [
      "[[ 6 12]\n",
      " [15 30]]\n"
     ]
    }
   ],
   "source": [
    "print(a3By2.dot(a2By3))"
   ]
  },
  {
   "cell_type": "markdown",
   "metadata": {
    "id": "t_9TyFr_P18d"
   },
   "source": [
    "Determinant is a very useful value in linear algebra. It calculated from the diagonal elements of a square matrix. For a 2x2 matrix, it is simply the subtraction of the product of the top left and bottom right element from the product of other two.\n",
    "\n",
    "In other words, for a matrix A = [[a,b], [c,d]], the determinant |A| is computed as ‘ad-bc’. The larger square matrices are considered to be a combination of 2x2 matrices.\n",
    "\n",
    "The numpy.linalg.det() function calculates the determinant of the input matrix.\n",
    "\n",
    "If this relationship is equal to zero the inverse of A does not exist. If this term is very close to zero, an inverse may exist but A−1 may be poorly conditioned meaning it is prone to rounding error and is likely not well identified computationally. The term a11a22−a12a21 is the determinant of matrix A, and for square matrices of size greater than 2×2, if equal to zero indicates that you have a problem with your data matrix (columns are linearly dependent on other columns). The inverse of matrix A exists if A is square and is of full rank (ie. the columns of A are not linear combinations of other columns of A).\n"
   ]
  },
  {
   "cell_type": "code",
   "execution_count": null,
   "metadata": {
    "colab": {
     "base_uri": "https://localhost:8080/"
    },
    "id": "WLyQLANMLklg",
    "outputId": "a6c08b97-e428-4996-b4b4-0a8dbd42d03f"
   },
   "outputs": [
    {
     "data": {
      "text/plain": [
       "-2.9999999999999996"
      ]
     },
     "execution_count": 35,
     "metadata": {},
     "output_type": "execute_result"
    }
   ],
   "source": [
    "a2By2 = np.array([[1,2], [2, 1]])\n",
    "np.linalg.det(a2By2)"
   ]
  },
  {
   "cell_type": "markdown",
   "metadata": {
    "id": "ubu0nP4gXox5"
   },
   "source": [
    "Inverse of matrix -  matrix dot matrix(-1) = I, where I is the identity matrix\n",
    "\n",
    "![matrix.gif](data:image/gif;base64,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)"
   ]
  },
  {
   "cell_type": "code",
   "execution_count": null,
   "metadata": {
    "colab": {
     "base_uri": "https://localhost:8080/"
    },
    "id": "sM9Y1LLKRBFR",
    "outputId": "bb71665e-002f-4595-ee6f-28459cad140e"
   },
   "outputs": [
    {
     "name": "stdout",
     "output_type": "stream",
     "text": [
      "[[-0.33333333  0.66666667]\n",
      " [ 0.66666667 -0.33333333]]\n",
      "[[1. 0.]\n",
      " [0. 1.]]\n"
     ]
    }
   ],
   "source": [
    "print(np.linalg.inv(a2By2))\n",
    "print (a2By2.dot(np.linalg.inv(a2By2)))"
   ]
  },
  {
   "cell_type": "markdown",
   "metadata": {
    "id": "fgRtpXDT8HWj"
   },
   "source": [
    "Transpose of matrix - A'.\n",
    "\n",
    "One important property of transposing a matrix is the transpose of a product of two matrices. Let matrix A be of dimension N×M and let B of of dimension M×P. Then\n",
    "(AB)′=B′A′"
   ]
  },
  {
   "cell_type": "code",
   "execution_count": null,
   "metadata": {
    "colab": {
     "base_uri": "https://localhost:8080/"
    },
    "id": "RkPQ4zh57dDk",
    "outputId": "ccacf356-9379-455d-a145-8e22bf0fdbe7"
   },
   "outputs": [
    {
     "name": "stdout",
     "output_type": "stream",
     "text": [
      "[[1 1 1]\n",
      " [2 2 2]]\n"
     ]
    }
   ],
   "source": [
    "print(a2By3.T)"
   ]
  },
  {
   "cell_type": "markdown",
   "metadata": {
    "id": "Nf85we4G9IjC"
   },
   "source": [
    "Accessing columns, rows"
   ]
  },
  {
   "cell_type": "code",
   "execution_count": null,
   "metadata": {
    "colab": {
     "base_uri": "https://localhost:8080/"
    },
    "id": "Y6lRtJgP8S6-",
    "outputId": "fe045fbc-8213-4a3d-c62d-54d4a7c68745"
   },
   "outputs": [
    {
     "name": "stdout",
     "output_type": "stream",
     "text": [
      "[1 1 1]\n",
      "[1 2]\n"
     ]
    }
   ],
   "source": [
    "print(a2By3[:,0])\n",
    "print(a2By3[0,:])"
   ]
  },
  {
   "cell_type": "code",
   "execution_count": null,
   "metadata": {
    "id": "b_nvu7qn9WPw"
   },
   "outputs": [],
   "source": []
  }
 ],
 "metadata": {
  "colab": {
   "authorship_tag": "ABX9TyPYdj2X8E9NyMiX15tF8lgI",
   "collapsed_sections": [],
   "include_colab_link": true,
   "name": "Linear Algebra.ipynb",
   "provenance": []
  },
  "kernelspec": {
   "display_name": "Python 3 (ipykernel)",
   "language": "python",
   "name": "python3"
  },
  "language_info": {
   "codemirror_mode": {
    "name": "ipython",
    "version": 3
   },
   "file_extension": ".py",
   "mimetype": "text/x-python",
   "name": "python",
   "nbconvert_exporter": "python",
   "pygments_lexer": "ipython3",
   "version": "3.9.12"
  }
 },
 "nbformat": 4,
 "nbformat_minor": 4
}
