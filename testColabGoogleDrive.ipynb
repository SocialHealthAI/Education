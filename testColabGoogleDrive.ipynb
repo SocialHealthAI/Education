{
  "nbformat": 4,
  "nbformat_minor": 0,
  "metadata": {
    "colab": {
      "provenance": [],
      "authorship_tag": "ABX9TyPSx3MFoLhX9vHT+UhV42yM",
      "include_colab_link": true
    },
    "kernelspec": {
      "name": "python3",
      "display_name": "Python 3"
    },
    "language_info": {
      "name": "python"
    }
  },
  "cells": [
    {
      "cell_type": "markdown",
      "metadata": {
        "id": "view-in-github",
        "colab_type": "text"
      },
      "source": [
        "<a href=\"https://colab.research.google.com/github/SocialHealthAI/Education/blob/main/testGoogleDrive.ipynb\" target=\"_parent\"><img src=\"https://colab.research.google.com/assets/colab-badge.svg\" alt=\"Open In Colab\"/></a>"
      ]
    },
    {
      "cell_type": "markdown",
      "source": [
        "Demonstrate connection to Google Drive.  When prompted, enter your Google credentials.  To access a shared drive add a shortcut to the share in Google Drive.  The folder will appear in drive/MyDrive."
      ],
      "metadata": {
        "id": "QyfR5Bj7i2lP"
      }
    },
    {
      "cell_type": "code",
      "source": [
        "from google.colab import drive\n",
        "drive.mount('/content/drive', force_remount=True)"
      ],
      "metadata": {
        "id": "oEU1X7R48IDy",
        "outputId": "2888cc30-2421-4f30-f857-ae8e787ff348",
        "colab": {
          "base_uri": "https://localhost:8080/"
        }
      },
      "execution_count": 1,
      "outputs": [
        {
          "output_type": "stream",
          "name": "stdout",
          "text": [
            "Mounted at /content/drive\n"
          ]
        }
      ]
    },
    {
      "cell_type": "code",
      "source": [
        "import os\n",
        "%cd \"drive/MyDrive/Fellowship Celebration\"\n",
        "os.listdir()"
      ],
      "metadata": {
        "id": "3S1HDbPq-sFp",
        "outputId": "d7f35747-0094-4c90-881f-5d5440d76ed3",
        "colab": {
          "base_uri": "https://localhost:8080/"
        }
      },
      "execution_count": 2,
      "outputs": [
        {
          "output_type": "stream",
          "name": "stdout",
          "text": [
            "/content/drive/.shortcut-targets-by-id/1SieOAM4cvL9_s0QhOrctIe_1GcRCvFhM/Fellowship Celebration\n"
          ]
        },
        {
          "output_type": "execute_result",
          "data": {
            "text/plain": [
              "['2021 Data Fellowship Community Celebration.docx',\n",
              " 'guestlist.xlsx',\n",
              " 'Examples',\n",
              " 'Community Celebration Lightning Talks Deck - 2022.pptx']"
            ]
          },
          "metadata": {},
          "execution_count": 2
        }
      ]
    }
  ]
}