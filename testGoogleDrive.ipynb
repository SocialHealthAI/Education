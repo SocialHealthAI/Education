{
  "nbformat": 4,
  "nbformat_minor": 0,
  "metadata": {
    "colab": {
      "provenance": [],
      "authorship_tag": "ABX9TyMdIIb+LY8DTKAAtjHh0T/5",
      "include_colab_link": true
    },
    "kernelspec": {
      "name": "python3",
      "display_name": "Python 3"
    },
    "language_info": {
      "name": "python"
    }
  },
  "cells": [
    {
      "cell_type": "markdown",
      "metadata": {
        "id": "view-in-github",
        "colab_type": "text"
      },
      "source": [
        "<a href=\"https://colab.research.google.com/github/SocialHealthAI/Education/blob/main/testGoogleDrive.ipynb\" target=\"_parent\"><img src=\"https://colab.research.google.com/assets/colab-badge.svg\" alt=\"Open In Colab\"/></a>"
      ]
    },
    {
      "cell_type": "markdown",
      "source": [
        "Demonstrate connection to Google Drive.  When prompted, enter your Google credentials.  To access a shared drive add a shortcut to the share in Google Drive.  The folder will appear in drive/MyDrive."
      ],
      "metadata": {
        "id": "QyfR5Bj7i2lP"
      }
    },
    {
      "cell_type": "code",
      "source": [
        "from google.colab import drive\n",
        "drive.mount('/content/drive', force_remount=True)"
      ],
      "metadata": {
        "id": "oEU1X7R48IDy",
        "outputId": "14014359-4d73-411b-bbd8-a5d78031896b",
        "colab": {
          "base_uri": "https://localhost:8080/"
        }
      },
      "execution_count": 1,
      "outputs": [
        {
          "output_type": "stream",
          "name": "stdout",
          "text": [
            "Mounted at /content/drive\n"
          ]
        }
      ]
    },
    {
      "cell_type": "code",
      "source": [
        "import os\n",
        "%cd drive/MyDrive\n",
        "os.listdir()"
      ],
      "metadata": {
        "id": "3S1HDbPq-sFp",
        "outputId": "401aeb44-d65f-42e8-ccd8-c4edf462f16f",
        "colab": {
          "base_uri": "https://localhost:8080/"
        }
      },
      "execution_count": 3,
      "outputs": [
        {
          "output_type": "stream",
          "name": "stdout",
          "text": [
            "/content/drive/MyDrive\n"
          ]
        },
        {
          "output_type": "execute_result",
          "data": {
            "text/plain": [
              "['Presentations',\n",
              " 'home',\n",
              " 'Colab Notebooks',\n",
              " 'photos',\n",
              " 'demos',\n",
              " 'Freelance',\n",
              " 'projects',\n",
              " 'Technology',\n",
              " 'SDOH',\n",
              " 'Epic and Healthcare models, contacts',\n",
              " 'TeenSmart_Predictive_Model',\n",
              " 'GeoSpatial Notebook',\n",
              " 'SDOH and AI Book',\n",
              " 'temp',\n",
              " 'Blog ideas',\n",
              " 'Finance — Attachments from Classic Sites',\n",
              " 'Finance — Converted from Classic Sites.gsite',\n",
              " 'Takeout',\n",
              " 'IMG_4529004.jpg',\n",
              " 'IMG_3536.jpg',\n",
              " 'Fellowship Celebration']"
            ]
          },
          "metadata": {},
          "execution_count": 3
        }
      ]
    }
  ]
}